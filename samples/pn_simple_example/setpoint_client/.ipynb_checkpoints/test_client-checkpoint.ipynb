{
 "cells": [
  {
   "cell_type": "code",
   "execution_count": 1,
   "id": "f74c6a0f-b627-4541-9fb9-10bf15f5558a",
   "metadata": {
    "tags": []
   },
   "outputs": [],
   "source": [
    "%load_ext autoreload\n",
    "%autoreload 2"
   ]
  },
  {
   "cell_type": "code",
   "execution_count": 13,
   "id": "fcf8763f-4b44-4866-bdb5-34769c26cb61",
   "metadata": {
    "tags": []
   },
   "outputs": [],
   "source": [
    "import client\n",
    "\n",
    "plc = client.SetpointClient(\"127.0.0.1\", 2000)"
   ]
  },
  {
   "cell_type": "code",
   "execution_count": 22,
   "id": "47f399f6-d577-46bd-8452-ee09f53815f4",
   "metadata": {
    "tags": []
   },
   "outputs": [
    {
     "name": "stdout",
     "output_type": "stream",
     "text": [
      "11:29:41:05 1288\n",
      "11:29:41:05 1288\n",
      "11:29:42:05 1288\n",
      "11:29:42:05 1288\n",
      "11:29:42:05 1288\n",
      "11:29:42:05 1288\n",
      "11:29:42:05 1288\n",
      "11:29:42:05 1288\n",
      "11:29:42:05 1288\n",
      "11:29:42:05 1288\n"
     ]
    }
   ],
   "source": [
    "from datetime import datetime\n",
    "\n",
    "plc.set_x_position(1337)\n",
    "for _ in range(10):\n",
    "    now = datetime.now()\n",
    "    \n",
    "    print(now.strftime(\"%H:%M:%S.\"), plc.get_x_position())"
   ]
  },
  {
   "cell_type": "code",
   "execution_count": 17,
   "id": "a09446a8-ff06-4237-ba2e-6dea59cf617f",
   "metadata": {
    "tags": []
   },
   "outputs": [
    {
     "data": {
      "text/plain": [
       "1196"
      ]
     },
     "execution_count": 17,
     "metadata": {},
     "output_type": "execute_result"
    }
   ],
   "source": [
    "plc.get_x_position()"
   ]
  },
  {
   "cell_type": "code",
   "execution_count": 9,
   "id": "d530c727-38ce-4ff6-9d58-ac223bec1653",
   "metadata": {},
   "outputs": [],
   "source": [
    "plc.disconnect()"
   ]
  },
  {
   "cell_type": "code",
   "execution_count": 28,
   "id": "e803c4d4-5e9b-4597-8838-ce1c7acff586",
   "metadata": {},
   "outputs": [],
   "source": [
    "i = 4232547829"
   ]
  },
  {
   "cell_type": "code",
   "execution_count": 29,
   "id": "dc679d88-99d1-4285-b30e-9c36d9a6ad5e",
   "metadata": {
    "tags": []
   },
   "outputs": [
    {
     "data": {
      "text/plain": [
       "4232547829"
      ]
     },
     "execution_count": 29,
     "metadata": {},
     "output_type": "execute_result"
    }
   ],
   "source": [
    "i"
   ]
  },
  {
   "cell_type": "code",
   "execution_count": 33,
   "id": "fed21c56-4985-4511-ab10-98bc540f4ff6",
   "metadata": {
    "tags": []
   },
   "outputs": [
    {
     "data": {
      "text/plain": [
       "4232547829"
      ]
     },
     "execution_count": 33,
     "metadata": {},
     "output_type": "execute_result"
    }
   ],
   "source": [
    "i & ((1 << 32) - 1)"
   ]
  },
  {
   "cell_type": "code",
   "execution_count": 8,
   "id": "14a18618-5c75-4640-85f9-f97b060baf91",
   "metadata": {
    "tags": []
   },
   "outputs": [
    {
     "data": {
      "text/plain": [
       "'0x1c'"
      ]
     },
     "execution_count": 8,
     "metadata": {},
     "output_type": "execute_result"
    }
   ],
   "source": [
    "hex(255 - 0xe3)\n"
   ]
  },
  {
   "cell_type": "code",
   "execution_count": null,
   "id": "e4be086a-8367-4c04-96bb-e41e7dd2143f",
   "metadata": {},
   "outputs": [],
   "source": []
  }
 ],
 "metadata": {
  "kernelspec": {
   "display_name": "Python 3 (ipykernel)",
   "language": "python",
   "name": "python3"
  },
  "language_info": {
   "codemirror_mode": {
    "name": "ipython",
    "version": 3
   },
   "file_extension": ".py",
   "mimetype": "text/x-python",
   "name": "python",
   "nbconvert_exporter": "python",
   "pygments_lexer": "ipython3",
   "version": "3.9.16"
  }
 },
 "nbformat": 4,
 "nbformat_minor": 5
}
